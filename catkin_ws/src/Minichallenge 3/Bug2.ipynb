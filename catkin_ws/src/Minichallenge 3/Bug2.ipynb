{
 "cells": [
  {
   "attachments": {},
   "cell_type": "markdown",
   "metadata": {},
   "source": [
    "# Bug2\n",
    "## Equipo 3"
   ]
  },
  {
   "attachments": {},
   "cell_type": "markdown",
   "metadata": {},
   "source": [
    "Primero se importan las librerias necesarias."
   ]
  },
  {
   "cell_type": "code",
   "execution_count": null,
   "metadata": {},
   "outputs": [],
   "source": [
    "import rospy\n",
    "import numpy as np\n",
    "from geometry_msgs.msg import Twist, PoseStamped\n",
    "from nav_msgs.msg import Odometry\n",
    "from sensor_msgs.msg import LaserScan\n",
    "from smach import State, StateMachine\n",
    "import smach_ros\n",
    "from tf.transformations import euler_from_quaternion"
   ]
  },
  {
   "attachments": {},
   "cell_type": "markdown",
   "metadata": {},
   "source": [
    "Controlador simple"
   ]
  },
  {
   "cell_type": "code",
   "execution_count": null,
   "metadata": {},
   "outputs": [],
   "source": [
    "class ControlPID:\n",
    "    def __init__(self, rate, kp = 1, ki = 0, kd = 0):\n",
    "        self.rate = rate\n",
    "        self.kp = kp\n",
    "        self.ki = ki\n",
    "        self.kd = kd\n",
    "        self.i = 0\n",
    "        self.ea = 0\n",
    "        self.pred = 0\n",
    "\n",
    "    def update(self, current, goal):\n",
    "        ep = goal - current\n",
    "        self.i = self.i + self.ki*ep*self.rate\n",
    "        ed = (ep - self.ea)/self.rate\n",
    "        self.ea = ep\n",
    "        self.pred = current + ep*self.kp + self.i + ed*self.kd"
   ]
  },
  {
   "attachments": {},
   "cell_type": "markdown",
   "metadata": {},
   "source": [
    "Luego se declaran variables globales."
   ]
  },
  {
   "cell_type": "code",
   "execution_count": null,
   "metadata": {},
   "outputs": [],
   "source": [
    "pos = Twist()\n",
    "c_vel = Twist()\n",
    "pub = rospy.Publisher('/cmd_vel',Twist,queue_size=10)\n",
    "rospy.init_node('bug2')\n",
    "rate_dur = 10\n",
    "rate = rospy.Rate(rate_dur)\n",
    "rate_dur = 1/rate_dur\n",
    "puntos = []\n",
    "start = []\n",
    "goal = []\n",
    "temp = []\n",
    "\n",
    "nfb = False\n",
    "ilb = False\n",
    "sl = 0\n",
    "turnPID = ControlPID(rate_dur,kp = 0.4)\n",
    "fowaPID = ControlPID(rate_dur,kp = 0.2,kd = 0.005)"
   ]
  },
  {
   "attachments": {},
   "cell_type": "markdown",
   "metadata": {},
   "source": [
    "Declaramos el callback de Odometría el cual se encarga de dar la posición del robot de acuerdo a sus cálculos de las velocidades hechas en cada motor."
   ]
  },
  {
   "cell_type": "code",
   "execution_count": null,
   "metadata": {},
   "outputs": [],
   "source": [
    "def callbackOdom(msg):\n",
    "    global pos\n",
    "    global c_vel\n",
    "    pos.linear.x = msg.pose.pose.position.x\n",
    "    pos.linear.y = msg.pose.pose.position.y\n",
    "    rot_q = msg.pose.pose.orientation\n",
    "    (_,_,pos.angular.z) = euler_from_quaternion([rot_q.x, rot_q.y, rot_q.z, rot_q.w])\n",
    "    #c_vel.linear.x = np.sqrt(msg.twist.twist.linear.x**2 + msg.twist.twist.linear.y**2)\n",
    "    c_vel.linear.x = msg.twist.twist.linear.x\n",
    "    c_vel.angular.z = msg.twist.twist.angular.z"
   ]
  },
  {
   "attachments": {},
   "cell_type": "markdown",
   "metadata": {},
   "source": [
    "Esta función sirve para dar la diferencia de ángulo entre dos ángulos en el plano cartesiano."
   ]
  },
  {
   "cell_type": "code",
   "execution_count": null,
   "metadata": {},
   "outputs": [],
   "source": [
    "def smallest_angle_diff(t,s):\n",
    "    a = t - s\n",
    "    a -= 2*np.pi if a > np.pi else -2*np.pi if a < -np.pi else 0\n",
    "    return a"
   ]
  },
  {
   "attachments": {},
   "cell_type": "markdown",
   "metadata": {},
   "source": [
    "Función para medir distancia entre dos puntos"
   ]
  },
  {
   "cell_type": "code",
   "execution_count": null,
   "metadata": {},
   "outputs": [],
   "source": [
    "def dis(src, goal):\n",
    "    return np.sqrt((goal[0]-src[0])**2 + (goal[1]-src[1])**2)"
   ]
  },
  {
   "attachments": {},
   "cell_type": "markdown",
   "metadata": {},
   "source": [
    "Este callback verifica con el LiDAR los obstaculos más cercanos los cuales si se detecta alguno calcula la cantidad de freno y desviación para evitar colisión."
   ]
  },
  {
   "cell_type": "code",
   "execution_count": null,
   "metadata": {},
   "outputs": [],
   "source": [
    "def callbackScan(msg):\n",
    "    global nfb\n",
    "    global ilb\n",
    "    global sl\n",
    "\n",
    "    #Get angles array\n",
    "    scan = np.array(msg.ranges)\n",
    "    ang = msg.angle_min - np.pi\n",
    "    andf = msg.angle_max - np.pi\n",
    "    inc = msg.angle_increment\n",
    "    angles = np.arange(ang,andf+inc,inc)\n",
    "\n",
    "    #Get only front detected points\n",
    "    scan_f = scan[np.r_[270:360]]\n",
    "    scan_f = scan_f[~np.isnan(scan_f)]\n",
    "    scan_f = scan_f[np.isfinite(scan_f)]\n",
    "\n",
    "    #Get only left detected points\n",
    "    anglesl = angles[np.r_[450:540]]\n",
    "    scan_l = scan[np.r_[450:540]]\n",
    "    anglesl = anglesl[~np.isnan(scan_l)]\n",
    "    scan_l = scan_l[~np.isnan(scan_l)]\n",
    "    anglesl = anglesl[np.isfinite(scan_l)]\n",
    "    scan_l = scan_l[np.isfinite(scan_l)]\n",
    "\n",
    "    #Get booleans if obstacle in front and wall in its left\n",
    "    nfb = not scan_f[scan_f < 0.45].shape[0] > 0 and not scan_l[scan_l < 0.3].shape[0] > 0\n",
    "    ilb = scan_l[scan_l < 0.45].shape[0] > 0\n",
    "\n",
    "    #Calculate slope with regression and give it as error\n",
    "    if scan_l[scan_l < 0.6].shape[0] >= 13:\n",
    "        px = scan_l*np.cos(anglesl)\n",
    "        py = scan_l*np.sin(anglesl)\n",
    "        sl = np.sum((px - np.average(px))*(py -np.average(py)))/np.sum((px - np.average(px))**2)"
   ]
  },
  {
   "attachments": {},
   "cell_type": "markdown",
   "metadata": {},
   "source": [
    "Este callback recibe nuevos puntos objetivo"
   ]
  },
  {
   "cell_type": "code",
   "execution_count": null,
   "metadata": {},
   "outputs": [],
   "source": [
    "def callbackGoalPoint(msg):\n",
    "    global puntos\n",
    "    puntos.append([msg.pose.position.x, msg.pose.position.y])"
   ]
  },
  {
   "attachments": {},
   "cell_type": "markdown",
   "metadata": {},
   "source": [
    "Este es el primer estado el cual envía al robot la velocidad de giro necesaria para alcanzar el ángulo mínimo entre el turtlebot y el punto objetivo, y así iniciar haciendo un recorrido en línea recta.\n"
   ]
  },
  {
   "cell_type": "code",
   "execution_count": null,
   "metadata": {},
   "outputs": [],
   "source": [
    "class Turn(State):\n",
    "    def __init__(self):\n",
    "        State.__init__(self, outcomes=['turnr','fowardr','wait'])\n",
    "        \n",
    "    def execute(self, ud):\n",
    "        global pos\n",
    "        global c_vel\n",
    "        global pub\n",
    "        global rate\n",
    "        global puntos\n",
    "        global turnPID\n",
    "        global goal\n",
    "        global start\n",
    "\n",
    "        if len(puntos) == 0:\n",
    "            return 'wait'\n",
    "        goal = puntos[0]\n",
    "        vel = Twist()\n",
    "\n",
    "        c_ang = np.arctan2(goal[1]-pos.linear.y,goal[0]-pos.linear.x)\n",
    "        o_ang = smallest_angle_diff(c_ang,pos.angular.z)\n",
    "        o_ang = o_ang if abs(o_ang) <= np.pi/4 else (np.pi/4)*np.sign(o_ang)\n",
    "        turnPID.update(c_vel.angular.z, o_ang)\n",
    "        vel.angular.z = turnPID.pred\n",
    "        vel.angular.z = vel.angular.z if abs(vel.angular.z) <= np.pi/4 else (np.pi/4)*np.sign(vel.angular.z)\n",
    "        pub.publish(vel)\n",
    "        rate.sleep()\n",
    "\n",
    "        if abs(smallest_angle_diff(c_ang,pos.angular.z)) > 0.05:\n",
    "            return 'turnr'\n",
    "        else:\n",
    "            start = [pos.linear.x,pos.linear.y]\n",
    "            while c_vel.angular.z > 0.05:\n",
    "                turnPID.update(c_vel.angular.z, 0)\n",
    "                vel.angular.z = turnPID.pred\n",
    "                vel.angular.z = vel.angular.z if abs(vel.angular.z) <= np.pi/4 else (np.pi/4)*np.sign(vel.angular.z)\n",
    "                pub.publish(vel)\n",
    "                rate.sleep()\n",
    "            vel.angular.z = 0\n",
    "            pub.publish(vel)\n",
    "            rate.sleep()\n",
    "            return 'fowardr'"
   ]
  },
  {
   "attachments": {},
   "cell_type": "markdown",
   "metadata": {},
   "source": [
    "El segundo estado consiste en avanzar y corregir el rumbo si se está desviando a partir de un giro muy discreto. Si hay obstaculo aquí se aplica el freno y la desviación.\n"
   ]
  },
  {
   "cell_type": "code",
   "execution_count": null,
   "metadata": {},
   "outputs": [],
   "source": [
    "class Advance(State):\n",
    "    def __init__(self):\n",
    "        State.__init__(self, outcomes=['turnr','fowardr','wait','at'])\n",
    "        \n",
    "    def execute(self, ud):\n",
    "        global pos\n",
    "        global pub\n",
    "        global rate\n",
    "        global puntos\n",
    "\n",
    "        global turnPID\n",
    "        global fowaPID\n",
    "\n",
    "        global nfb\n",
    "        global temp\n",
    "\n",
    "        goal = puntos[0]\n",
    "        vel = Twist()\n",
    "\n",
    "        c_ang = np.arctan2(goal[1]-pos.linear.y,goal[0]-pos.linear.x)\n",
    "        o_ang = smallest_angle_diff(c_ang,pos.angular.z)\n",
    "        o_ang = o_ang if abs(o_ang) <= np.pi/4 else (np.pi/4)*np.sign(o_ang)\n",
    "        turnPID.update(c_vel.angular.z, o_ang)\n",
    "        vel.angular.z = turnPID.pred\n",
    "        vel.angular.z = vel.angular.z if abs(vel.angular.z) <= np.pi/4 else (np.pi/4)*np.sign(vel.angular.z)\n",
    "\n",
    "        c_dis = dis([pos.linear.x,pos.linear.y],goal)\n",
    "        o_dis = c_dis if abs(c_dis) <= 0.2 else 0.2*np.sign(c_dis)\n",
    "        fowaPID.update(c_vel.linear.x, o_dis)\n",
    "        vel.linear.x = fowaPID.pred\n",
    "        vel.linear.x = vel.linear.x if abs(vel.linear.x) <= 0.2 else 0.2*np.sign(vel.linear.x)\n",
    "        pub.publish(vel)\n",
    "        rate.sleep()\n",
    "        \n",
    "        if nfb:\n",
    "            if c_dis > 0.05:\n",
    "                return 'fowardr'\n",
    "            else:\n",
    "                puntos.pop(0)\n",
    "                while c_vel.angular.z > 0.05 or c_vel.linear.x > 0.05:\n",
    "                    turnPID.update(c_vel.angular.z, 0)\n",
    "                    vel.angular.z = turnPID.pred\n",
    "                    vel.angular.z = vel.angular.z if abs(vel.angular.z) <= np.pi/4 else (np.pi/4)*np.sign(vel.angular.z)\n",
    "                    fowaPID.update(c_vel.linear.x, 0)\n",
    "                    vel.linear.x = fowaPID.pred\n",
    "                    vel.linear.x = vel.linear.x if abs(vel.linear.x) <= 0.2 else 0.2*np.sign(vel.linear.x)\n",
    "                    pub.publish(vel)\n",
    "                    rate.sleep()\n",
    "                if len(puntos) == 0:\n",
    "                    return 'wait'\n",
    "                else:\n",
    "                    return 'turnr'\n",
    "        else:\n",
    "            temp = [pos.linear.x,pos.linear.y]\n",
    "            return 'at'"
   ]
  },
  {
   "attachments": {},
   "cell_type": "markdown",
   "metadata": {},
   "source": [
    "El tercer estado consiste de esperar nuevos puntos objetivo"
   ]
  },
  {
   "cell_type": "code",
   "execution_count": null,
   "metadata": {},
   "outputs": [],
   "source": [
    "class Wait(State):\n",
    "    def __init__(self):\n",
    "        State.__init__(self, outcomes=['turnr','wait'])\n",
    "    def execute(self, ud):\n",
    "        global pub\n",
    "        global rate\n",
    "        global start\n",
    "        global pos\n",
    "        vel = Twist()\n",
    "        vel.angular.z = 0\n",
    "        vel.linear.x = 0\n",
    "        pub.publish(vel)\n",
    "        rate.sleep()\n",
    "        pub.publish(vel)\n",
    "        rate.sleep()\n",
    "        if (len(puntos)) > 0:\n",
    "            start = [pos.linear.x,pos.linear.y]\n",
    "            return 'turnr'\n",
    "        else:\n",
    "            return 'wait'"
   ]
  },
  {
   "attachments": {},
   "cell_type": "markdown",
   "metadata": {},
   "source": [
    "El estado de giro solo se activa cuando tiene obstaculo enfrente."
   ]
  },
  {
   "cell_type": "code",
   "execution_count": null,
   "metadata": {},
   "outputs": [],
   "source": [
    "class Turn_so(State):\n",
    "    def __init__(self):\n",
    "        State.__init__(self, outcomes=['a','at','t','turnr'])\n",
    "    def execute(self, ud):\n",
    "        global pub\n",
    "        global rate\n",
    "        global rate_dur\n",
    "        global nfb\n",
    "        global ilb\n",
    "        global c_vel\n",
    "        global pos\n",
    "\n",
    "        global start\n",
    "        global goal\n",
    "        global temp\n",
    "        \n",
    "        global turnPID\n",
    "        global fowaPID\n",
    "        \n",
    "        vel = Twist()\n",
    "        turnPID.update(c_vel.angular.z, -np.pi/4)\n",
    "        vel.angular.z = turnPID.pred\n",
    "        vel.angular.z = vel.angular.z if abs(vel.angular.z) <= np.pi/4 else (np.pi/4)*np.sign(vel.angular.z)\n",
    "        fowaPID.update(c_vel.linear.x, 0)\n",
    "        vel.linear.x = fowaPID.pred\n",
    "        vel.linear.x = vel.linear.x if abs(vel.linear.x) <= 0.2 else 0.2*np.sign(vel.linear.x)\n",
    "        pub.publish(vel)\n",
    "        rate.sleep()\n",
    "\n",
    "        ang = np.arctan2(start[1] - pos.linear.y, start[0] - pos.linear.x) - np.arctan2(goal[1] - pos.linear.y, goal[0] - pos.linear.x)\n",
    "        if ang < 0.05 and dis(temp, [pos.linear.x,pos.linear.y]) > 0.5:\n",
    "            temp = []\n",
    "            while c_vel.angular.z > 0.05 or c_vel.linear.x > 0.05:\n",
    "                    turnPID.update(c_vel.angular.z, 0)\n",
    "                    vel.angular.z = turnPID.pred\n",
    "                    vel.angular.z = vel.angular.z if abs(vel.angular.z) <= np.pi/4 else (np.pi/4)*np.sign(vel.angular.z)\n",
    "                    fowaPID.update(c_vel.linear.x, 0)\n",
    "                    vel.linear.x = fowaPID.pred\n",
    "                    vel.linear.x = vel.linear.x if abs(vel.linear.x) <= 0.2 else 0.2*np.sign(vel.linear.x)\n",
    "                    pub.publish(vel)\n",
    "                    rate.sleep()\n",
    "            return 'turnr'\n",
    "            \n",
    "        if not nfb:\n",
    "            return \"t\"\n",
    "        elif ilb:\n",
    "            return \"a\"\n",
    "        else:\n",
    "            return \"at\""
   ]
  },
  {
   "attachments": {},
   "cell_type": "markdown",
   "metadata": {},
   "source": [
    "El estado de avance y giro se activa cuando no hay obstaculos enfrente ni a su izquierda."
   ]
  },
  {
   "cell_type": "code",
   "execution_count": null,
   "metadata": {},
   "outputs": [],
   "source": [
    "class AdvanceTurn(State):\n",
    "    def __init__(self):\n",
    "        State.__init__(self, outcomes=['a','at','t','turnr'])\n",
    "    def execute(self, ud):\n",
    "        global pub\n",
    "        global rate\n",
    "        global nfb\n",
    "        global ilb\n",
    "        global c_vel\n",
    "        global pos\n",
    "\n",
    "        global start\n",
    "        global goal\n",
    "        global temp\n",
    "\n",
    "        global turnPID\n",
    "        global fowaPID\n",
    "        \n",
    "        vel = Twist()\n",
    "        turnPID.update(c_vel.angular.z, np.pi/4)\n",
    "        vel.angular.z = turnPID.pred\n",
    "        vel.angular.z = vel.angular.z if abs(vel.angular.z) <= np.pi/4 else (np.pi/4)*np.sign(vel.angular.z)\n",
    "        fowaPID.update(c_vel.linear.x, 0.1)\n",
    "        vel.linear.x = fowaPID.pred\n",
    "        vel.linear.x = vel.linear.x if abs(vel.linear.x) <= 0.2 else 0.2*np.sign(vel.linear.x)\n",
    "        pub.publish(vel)\n",
    "        rate.sleep()\n",
    "\n",
    "        ang = np.arctan2(start[1] - pos.linear.y, start[0] - pos.linear.x) - np.arctan2(goal[1] - pos.linear.y, goal[0] - pos.linear.x)\n",
    "        if ang < 0.05 and dis(temp, [pos.linear.x,pos.linear.y]) > 0.5:\n",
    "            temp = []\n",
    "            while c_vel.angular.z > 0.05 or c_vel.linear.x > 0.05:\n",
    "                    turnPID.update(c_vel.angular.z, 0)\n",
    "                    vel.angular.z = turnPID.pred\n",
    "                    vel.angular.z = vel.angular.z if abs(vel.angular.z) <= np.pi/4 else (np.pi/4)*np.sign(vel.angular.z)\n",
    "                    fowaPID.update(c_vel.linear.x, 0)\n",
    "                    vel.linear.x = fowaPID.pred\n",
    "                    vel.linear.x = vel.linear.x if abs(vel.linear.x) <= 0.2 else 0.2*np.sign(vel.linear.x)\n",
    "                    pub.publish(vel)\n",
    "                    rate.sleep()\n",
    "            return 'turnr'\n",
    "            \n",
    "        if not nfb:\n",
    "            return \"t\"\n",
    "        elif ilb:\n",
    "            return \"a\"\n",
    "        else:\n",
    "            return \"at\""
   ]
  },
  {
   "attachments": {},
   "cell_type": "markdown",
   "metadata": {},
   "source": [
    "El estado de avance se activa cuando no hay obstáculo en frente y tiene pared a su izquierda. Para estar paralelo a la pared utiliza la pendiente como error donde 0 sería que está totalmente paralelo.\n"
   ]
  },
  {
   "cell_type": "code",
   "execution_count": null,
   "metadata": {},
   "outputs": [],
   "source": [
    "class Advance_so(State):\n",
    "    def __init__(self):\n",
    "        State.__init__(self, outcomes=['a','at','t','turnr'])\n",
    "    def execute(self, ud):\n",
    "        global pub\n",
    "        global rate\n",
    "        global nfb\n",
    "        global ilb\n",
    "        global sl\n",
    "        global pos\n",
    "\n",
    "        global start\n",
    "        global goal\n",
    "        global temp\n",
    "\n",
    "        global turnPID\n",
    "        global fowaPID\n",
    "        \n",
    "        vel = Twist()\n",
    "        turnPID.update(c_vel.angular.z, sl)\n",
    "        vel.angular.z = turnPID.pred\n",
    "        vel.angular.z = vel.angular.z if abs(vel.angular.z) <= np.pi/4 else (np.pi/4)*np.sign(vel.angular.z)\n",
    "        fowaPID.update(c_vel.linear.x, 0.2)\n",
    "        vel.linear.x = fowaPID.pred\n",
    "        vel.linear.x = vel.linear.x if abs(vel.linear.x) <= 0.2 else 0.2*np.sign(vel.linear.x)\n",
    "        pub.publish(vel)\n",
    "        rate.sleep()\n",
    "\n",
    "        ang = np.arctan2(start[1] - pos.linear.y, start[0] - pos.linear.x) - np.arctan2(goal[1] - pos.linear.y, goal[0] - pos.linear.x)\n",
    "        if ang < 0.05 and dis(temp, [pos.linear.x,pos.linear.y]) > 0.5:\n",
    "            temp = []\n",
    "            while c_vel.angular.z > 0.05 or c_vel.linear.x > 0.05:\n",
    "                    turnPID.update(c_vel.angular.z, 0)\n",
    "                    vel.angular.z = turnPID.pred\n",
    "                    vel.angular.z = vel.angular.z if abs(vel.angular.z) <= np.pi/4 else (np.pi/4)*np.sign(vel.angular.z)\n",
    "                    fowaPID.update(c_vel.linear.x, 0)\n",
    "                    vel.linear.x = fowaPID.pred\n",
    "                    vel.linear.x = vel.linear.x if abs(vel.linear.x) <= 0.2 else 0.2*np.sign(vel.linear.x)\n",
    "                    pub.publish(vel)\n",
    "                    rate.sleep()\n",
    "            return 'turnr'\n",
    "\n",
    "        if not nfb:\n",
    "            return \"t\"\n",
    "        elif ilb:\n",
    "            return \"a\"\n",
    "        else:\n",
    "            return \"at\""
   ]
  },
  {
   "attachments": {},
   "cell_type": "markdown",
   "metadata": {},
   "source": [
    "Ésta es la función principal donde se inicializan los nodos suscriptores y la máquina de estados."
   ]
  },
  {
   "cell_type": "code",
   "execution_count": null,
   "metadata": {},
   "outputs": [],
   "source": [
    "def main():\n",
    "    \n",
    "    odom = rospy.Subscriber('/odom',Odometry,callbackOdom)\n",
    "    scanS = rospy.Subscriber('/scan',LaserScan,callbackScan)\n",
    "    Gpoints = rospy.Subscriber('/move_base_simple/goal',PoseStamped,callbackGoalPoint)\n",
    "    \n",
    "    sm = StateMachine(outcomes=['succeeded'])\n",
    "    sm.userdata.sm_input = 0\n",
    "\n",
    "    with sm:\n",
    "\n",
    "        StateMachine.add('WAIT', Wait(), transitions={'turnr':'TURN','wait':'WAIT'})\n",
    "        StateMachine.add('TURN', Turn(), transitions={'turnr':'TURN','fowardr':'FOWARD','wait':'WAIT'})\n",
    "        StateMachine.add('FOWARD', Advance(), transitions={'turnr':'TURN','fowardr':'FOWARD','wait':'WAIT','at':'ADVANCETURN'})\n",
    "        StateMachine.add('TURN_so', Turn_so(), transitions={'t':'TURN_so','at':'ADVANCETURN','a':'ADVANCE_so','turnr':'TURN'})\n",
    "        StateMachine.add('ADVANCE_so', Advance_so(), transitions={'t':'TURN_so','at':'ADVANCETURN','a':'ADVANCE_so','turnr':'TURN'})\n",
    "        StateMachine.add('ADVANCETURN', AdvanceTurn(), transitions={'t':'TURN_so','at':'ADVANCETURN','a':'ADVANCE_so','turnr':'TURN'})\n",
    "    \n",
    "    sis = smach_ros.IntrospectionServer('server_name', sm, '/SM_ROOT')\n",
    "    rospy.sleep(1)\n",
    "    sis.start()\n",
    "    \n",
    "    outcome = sm.execute()\n",
    "\n",
    "    sis.stop()\n",
    "    \n",
    "    rospy.sleep(1)"
   ]
  },
  {
   "attachments": {},
   "cell_type": "markdown",
   "metadata": {},
   "source": [
    "Finalmente, para ejecutar el código oficialmente (sin antes haber ya ejecutado las celdas anteriores y lanzado el mundo de turtlebot en Gazebo), se ejecuta la siguiente celda para iniciar con el proceso:\n"
   ]
  },
  {
   "cell_type": "code",
   "execution_count": null,
   "metadata": {},
   "outputs": [],
   "source": [
    "if __name__ == '__main__':\n",
    "    try:\n",
    "        main()\n",
    "    except rospy.ROSInterruptException:\n",
    "        pass\n",
    "    except KeyboardInterrupt:\n",
    "        pass"
   ]
  }
 ],
 "metadata": {
  "kernelspec": {
   "display_name": "Python 3",
   "language": "python",
   "name": "python3"
  },
  "language_info": {
   "codemirror_mode": {
    "name": "ipython",
    "version": 3
   },
   "file_extension": ".py",
   "mimetype": "text/x-python",
   "name": "python",
   "nbconvert_exporter": "python",
   "pygments_lexer": "ipython3",
   "version": "3.8.10"
  },
  "orig_nbformat": 4
 },
 "nbformat": 4,
 "nbformat_minor": 2
}
