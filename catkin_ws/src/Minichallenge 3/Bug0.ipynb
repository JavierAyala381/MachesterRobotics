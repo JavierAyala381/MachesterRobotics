{
 "cells": [
  {
   "attachments": {},
   "cell_type": "markdown",
   "metadata": {},
   "source": [
    "# Bug0\n",
    "## Equipo 3"
   ]
  },
  {
   "attachments": {},
   "cell_type": "markdown",
   "metadata": {},
   "source": [
    "Primero se importan las librerias necesarias."
   ]
  },
  {
   "cell_type": "code",
   "execution_count": null,
   "metadata": {},
   "outputs": [],
   "source": [
    "import rospy\n",
    "import numpy as np\n",
    "from geometry_msgs.msg import Twist, PoseStamped\n",
    "from nav_msgs.msg import Odometry\n",
    "from sensor_msgs.msg import LaserScan\n",
    "from smach import State, StateMachine\n",
    "import smach_ros\n",
    "from tf.transformations import euler_from_quaternion"
   ]
  },
  {
   "attachments": {},
   "cell_type": "markdown",
   "metadata": {},
   "source": [
    "Controlador simple"
   ]
  },
  {
   "cell_type": "code",
   "execution_count": null,
   "metadata": {},
   "outputs": [],
   "source": [
    "class ControlPID:\n",
    "    def __init__(self, rate, kp = 1, ki = 0, kd = 0):\n",
    "        self.rate = rate\n",
    "        self.kp = kp\n",
    "        self.ki = ki\n",
    "        self.kd = kd\n",
    "        self.i = 0\n",
    "        self.ea = 0\n",
    "        self.pred = 0\n",
    "\n",
    "    def update(self, current, goal):\n",
    "        ep = goal - current\n",
    "        self.i = self.i + self.ki*ep*self.rate\n",
    "        ed = (ep - self.ea)/self.rate\n",
    "        self.ea = ep\n",
    "        self.pred = current + ep*self.kp + self.i + ed*self.kd\n"
   ]
  },
  {
   "attachments": {},
   "cell_type": "markdown",
   "metadata": {},
   "source": [
    "Luego se declaran variables globales."
   ]
  },
  {
   "cell_type": "code",
   "execution_count": null,
   "metadata": {},
   "outputs": [],
   "source": [
    "pos = Twist()\n",
    "c_vel = Twist()\n",
    "break_v = 0\n",
    "turn_b = 0\n",
    "pub = rospy.Publisher('/cmd_vel',Twist,queue_size=10)\n",
    "rospy.init_node('bug0')\n",
    "rate = rospy.Rate(10)\n",
    "puntos = []\n",
    "rate_dur = 25\n",
    "rate = rospy.Rate(rate_dur)\n",
    "rate_dur = 1/rate_dur\n",
    "turnPID = ControlPID(rate_dur,kp = 0.4)\n",
    "fowaPID = ControlPID(rate_dur,kp = 0.2,kd = 0.005)"
   ]
  },
  {
   "attachments": {},
   "cell_type": "markdown",
   "metadata": {},
   "source": [
    "Declaramos el callback de Odometría el cual se encarga de dar la posición del robot de acuerdo a sus cálculos de las velocidades hechas en cada motor."
   ]
  },
  {
   "cell_type": "code",
   "execution_count": null,
   "metadata": {},
   "outputs": [],
   "source": [
    "def callbackOdom(msg):\n",
    "    global pos\n",
    "    global c_vel\n",
    "    pos.linear.x = msg.pose.pose.position.x\n",
    "    pos.linear.y = msg.pose.pose.position.y\n",
    "    rot_q = msg.pose.pose.orientation\n",
    "    (_,_,pos.angular.z) = euler_from_quaternion([rot_q.x, rot_q.y, rot_q.z, rot_q.w])\n",
    "    c_vel.linear.x = msg.twist.twist.linear.x\n",
    "    c_vel.angular.z = msg.twist.twist.angular.z"
   ]
  },
  {
   "attachments": {},
   "cell_type": "markdown",
   "metadata": {},
   "source": [
    "Esta función sirve para dar la diferencia de ángulo entre dos ángulos en el plano cartesiano."
   ]
  },
  {
   "cell_type": "code",
   "execution_count": null,
   "metadata": {},
   "outputs": [],
   "source": [
    "def smallest_angle_diff(t,s):\n",
    "    a = t - s\n",
    "    a -= 2*np.pi if a > np.pi else -2*np.pi if a < -np.pi else 0\n",
    "    return a"
   ]
  },
  {
   "attachments": {},
   "cell_type": "markdown",
   "metadata": {},
   "source": [
    "Función para medir distancia entre dos puntos"
   ]
  },
  {
   "cell_type": "code",
   "execution_count": null,
   "metadata": {},
   "outputs": [],
   "source": [
    "def dis(src, goal):\n",
    "    return np.sqrt((goal[0]-src[0])**2 + (goal[1]-src[1])**2)"
   ]
  },
  {
   "attachments": {},
   "cell_type": "markdown",
   "metadata": {},
   "source": [
    "Este callback verifica con el LiDAR los obstaculos más cercanos los cuales si se detecta alguno calcula la cantidad de freno y desviación para evitar colisión."
   ]
  },
  {
   "cell_type": "code",
   "execution_count": null,
   "metadata": {},
   "outputs": [],
   "source": [
    "def callbackScan(msg):\n",
    "    global break_v\n",
    "    global turn_b\n",
    "\n",
    "    #Import scan\n",
    "    scan = np.array(msg.ranges)\n",
    "\n",
    "    #Get angles array\n",
    "    ang = msg.angle_min - np.pi\n",
    "    andf = msg.angle_max - np.pi\n",
    "    inc = msg.angle_increment\n",
    "    angles = np.arange(ang,andf+inc,inc)\n",
    "\n",
    "    #Get only front detected points\n",
    "    angles_f = angles[np.r_[260:460]]\n",
    "    scan_f = scan[np.r_[260:460]]\n",
    "    angles_f = angles_f[~np.isnan(scan_f)]\n",
    "    scan_f = scan_f[~np.isnan(scan_f)]\n",
    "    angles_f = angles_f[np.isfinite(scan_f)]\n",
    "    scan_f = scan_f[np.isfinite(scan_f)]\n",
    "    \n",
    "    #Avoid collision of objects when braking and turning away from the obstacle.\n",
    "    #Maximum reach 0.25 - recommended 0.37\n",
    "    if scan_f[scan_f < 0.5].shape[0] > 0:\n",
    "        break_v = (scan_f.min() - 0.25)/scan_f.min()\n",
    "        try:\n",
    "            angle = smallest_angle_diff(angles_f[scan_f == scan_f.min()],np.pi)\n",
    "            turn_b = np.pi/2 if angle < 0 else -np.pi/2\n",
    "        except:\n",
    "            turn_b = 0\n",
    "    else:\n",
    "        break_v = 1\n",
    "        turn_b = 0"
   ]
  },
  {
   "attachments": {},
   "cell_type": "markdown",
   "metadata": {},
   "source": [
    "Este callback recibe nuevos puntos objetivo"
   ]
  },
  {
   "cell_type": "code",
   "execution_count": null,
   "metadata": {},
   "outputs": [],
   "source": [
    "def callbackGoalPoint(msg):\n",
    "    global puntos\n",
    "    puntos.append([msg.pose.position.x, msg.pose.position.y])"
   ]
  },
  {
   "attachments": {},
   "cell_type": "markdown",
   "metadata": {},
   "source": [
    "Este es el primer estado el cual envía al robot la velocidad de giro necesaria para alcanzar el ángulo mínimo entre el turtlebot y el punto objetivo, y así iniciar haciendo un recorrido en línea recta."
   ]
  },
  {
   "cell_type": "code",
   "execution_count": null,
   "metadata": {},
   "outputs": [],
   "source": [
    "class Turn(State):\n",
    "    def __init__(self):\n",
    "        State.__init__(self, outcomes=['turnr','fowardr','wait'])\n",
    "        \n",
    "    def execute(self, ud):\n",
    "        global pos\n",
    "        global c_vel\n",
    "        global pub\n",
    "        global rate\n",
    "        global puntos\n",
    "        global turnPID\n",
    "\n",
    "        if len(puntos) == 0:\n",
    "            return 'wait'\n",
    "        goal = puntos[0]\n",
    "        vel = Twist()\n",
    "\n",
    "        c_ang = np.arctan2(goal[1]-pos.linear.y,goal[0]-pos.linear.x)\n",
    "        o_ang = smallest_angle_diff(c_ang,pos.angular.z)\n",
    "        o_ang = o_ang if abs(o_ang) <= np.pi/4 else (np.pi/4)*np.sign(o_ang)\n",
    "        turnPID.update(c_vel.angular.z, o_ang)\n",
    "        vel.angular.z = turnPID.pred\n",
    "        vel.angular.z = vel.angular.z if abs(vel.angular.z) <= np.pi/4 else (np.pi/4)*np.sign(vel.angular.z)\n",
    "        pub.publish(vel)\n",
    "        rate.sleep()\n",
    "\n",
    "        if abs(smallest_angle_diff(c_ang,pos.angular.z)) > 0.05:\n",
    "            return 'turnr'\n",
    "        else:\n",
    "            while c_vel.angular.z > 0.05:\n",
    "                turnPID.update(c_vel.angular.z, 0)\n",
    "                vel.angular.z = turnPID.pred\n",
    "                vel.angular.z = vel.angular.z if abs(vel.angular.z) <= np.pi/4 else (np.pi/4)*np.sign(vel.angular.z)\n",
    "                pub.publish(vel)\n",
    "                rate.sleep()\n",
    "            vel.angular.z = 0\n",
    "            pub.publish(vel)\n",
    "            rate.sleep()\n",
    "            return 'fowardr'"
   ]
  },
  {
   "attachments": {},
   "cell_type": "markdown",
   "metadata": {},
   "source": [
    "El segundo estado consiste en avanzar y corregir el rumbo si se está desviando a partir de un giro muy discreto. Si hay obstaculo aquí se aplica el freno y la desviación."
   ]
  },
  {
   "cell_type": "code",
   "execution_count": null,
   "metadata": {},
   "outputs": [],
   "source": [
    "class Advance(State):\n",
    "    def __init__(self):\n",
    "        State.__init__(self, outcomes=['turnr','fowardr','wait'])\n",
    "        \n",
    "    def execute(self, ud):\n",
    "        global pos\n",
    "        global pub\n",
    "        global rate\n",
    "        global puntos\n",
    "        global break_v\n",
    "        global turn_b\n",
    "        global turnPID\n",
    "        global fowaPID\n",
    "\n",
    "        goal = puntos[0]\n",
    "        vel = Twist()\n",
    "\n",
    "        c_ang = np.arctan2(goal[1]-pos.linear.y,goal[0]-pos.linear.x)\n",
    "        o_ang = smallest_angle_diff(c_ang,pos.angular.z) if turn_b == 0 else turn_b*(1-break_v) if break_v >= 0 else 0\n",
    "        o_ang = o_ang if abs(o_ang) <= np.pi/4 else (np.pi/4)*np.sign(o_ang)\n",
    "        turnPID.update(c_vel.angular.z, o_ang)\n",
    "        vel.angular.z = turnPID.pred\n",
    "        vel.angular.z = vel.angular.z if abs(vel.angular.z) <= np.pi/4 else (np.pi/4)*np.sign(vel.angular.z)\n",
    "\n",
    "        c_dis = dis([pos.linear.x,pos.linear.y],goal)\n",
    "        o_dis = c_dis if abs(c_dis) <= 0.2 else 0.2*np.sign(c_dis)\n",
    "        o_dis = c_dis*break_v if break_v > 0 else -0.2\n",
    "        fowaPID.update(c_vel.linear.x, o_dis)\n",
    "        vel.linear.x = fowaPID.pred\n",
    "        vel.linear.x = vel.linear.x if abs(vel.linear.x) <= 0.2 else 0.2*np.sign(vel.linear.x)*abs(break_v)\n",
    "        pub.publish(vel)\n",
    "        rate.sleep()\n",
    "\n",
    "        if c_dis > 0.05:\n",
    "            return 'fowardr'\n",
    "        else:\n",
    "            puntos.pop(0)\n",
    "            while c_vel.angular.z > 0.05 or c_vel.linear.x > 0.05:\n",
    "                turnPID.update(c_vel.angular.z, 0)\n",
    "                vel.angular.z = turnPID.pred\n",
    "                vel.angular.z = vel.angular.z if abs(vel.angular.z) <= np.pi/4 else (np.pi/4)*np.sign(vel.angular.z)\n",
    "                fowaPID.update(c_vel.linear.x, 0)\n",
    "                vel.linear.x = fowaPID.pred\n",
    "                vel.linear.x = vel.linear.x if abs(vel.linear.x) <= 0.2 else 0.2*np.sign(vel.linear.x)*abs(break_v)\n",
    "                pub.publish(vel)\n",
    "                rate.sleep()\n",
    "\n",
    "            if len(puntos) == 0:\n",
    "                return 'wait'\n",
    "            else:\n",
    "                return 'turnr'"
   ]
  },
  {
   "attachments": {},
   "cell_type": "markdown",
   "metadata": {},
   "source": [
    "El tercer estado consiste de esperar nuevos puntos objetivo"
   ]
  },
  {
   "cell_type": "code",
   "execution_count": null,
   "metadata": {},
   "outputs": [],
   "source": [
    "class Wait(State):\n",
    "    def __init__(self):\n",
    "        State.__init__(self, outcomes=['turnr','wait'])\n",
    "    def execute(self, ud):\n",
    "        global pub\n",
    "        global rate\n",
    "        vel = Twist()\n",
    "        vel.angular.z = 0.0\n",
    "        vel.linear.x = 0.0\n",
    "        pub.publish(vel)\n",
    "        rate.sleep()\n",
    "        pub.publish(vel)\n",
    "        rate.sleep()\n",
    "        if (len(puntos)) > 0:\n",
    "            return 'turnr'\n",
    "        else:\n",
    "            return 'wait'"
   ]
  },
  {
   "attachments": {},
   "cell_type": "markdown",
   "metadata": {},
   "source": [
    "Ésta es la función principal donde se inicializan los nodos suscriptores y la máquina de estados."
   ]
  },
  {
   "cell_type": "code",
   "execution_count": null,
   "metadata": {},
   "outputs": [],
   "source": [
    "def main():\n",
    "    \n",
    "    odom = rospy.Subscriber('/odom',Odometry,callbackOdom)\n",
    "    scanS = rospy.Subscriber('/scan',LaserScan,callbackScan)\n",
    "    Gpoints = rospy.Subscriber('/move_base_simple/goal',PoseStamped,callbackGoalPoint)\n",
    "    \n",
    "    sm = StateMachine(outcomes=['succeeded'])\n",
    "    sm.userdata.sm_input = 0\n",
    "\n",
    "    with sm:\n",
    "\n",
    "        StateMachine.add('WAIT', Wait(), transitions={'turnr':'TURN','wait':'WAIT'})\n",
    "        StateMachine.add('TURN', Turn(), transitions={'turnr':'TURN','fowardr':'FOWARD','wait':'WAIT'})\n",
    "        StateMachine.add('FOWARD', Advance(), transitions={'turnr':'TURN','fowardr':'FOWARD','wait':'WAIT'})\n",
    "    \n",
    "    sis = smach_ros.IntrospectionServer('server_name', sm, '/SM_ROOT')\n",
    "    rospy.sleep(1)\n",
    "    sis.start()\n",
    "    \n",
    "    outcome = sm.execute()\n",
    "\n",
    "    sis.stop()\n",
    "    \n",
    "    rospy.sleep(1)"
   ]
  },
  {
   "attachments": {},
   "cell_type": "markdown",
   "metadata": {},
   "source": [
    "Finalmente, para ejecutar el código oficialmente (sin antes haber ya ejecutado las celdas anteriores y lanzado el mundo de turtlebot en Gazebo), se ejecuta la siguiente celda para iniciar con el proceso:"
   ]
  },
  {
   "cell_type": "code",
   "execution_count": null,
   "metadata": {},
   "outputs": [],
   "source": [
    "if __name__ == '__main__':\n",
    "    try:\n",
    "        main()\n",
    "    except rospy.ROSInterruptException:\n",
    "        pass"
   ]
  }
 ],
 "metadata": {
  "kernelspec": {
   "display_name": "Python 3",
   "language": "python",
   "name": "python3"
  },
  "language_info": {
   "codemirror_mode": {
    "name": "ipython",
    "version": 3
   },
   "file_extension": ".py",
   "mimetype": "text/x-python",
   "name": "python",
   "nbconvert_exporter": "python",
   "pygments_lexer": "ipython3",
   "version": "3.8.10"
  },
  "orig_nbformat": 4
 },
 "nbformat": 4,
 "nbformat_minor": 2
}
